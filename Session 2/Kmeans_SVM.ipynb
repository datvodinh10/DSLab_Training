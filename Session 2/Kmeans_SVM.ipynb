{
 "cells": [
  {
   "cell_type": "code",
   "execution_count": null,
   "metadata": {},
   "outputs": [],
   "source": [
    "import numpy as np\n",
    "from LibraryCode.Kmeans import Member,Cluster,Kmeans,load_data"
   ]
  },
  {
   "cell_type": "code",
   "execution_count": null,
   "metadata": {},
   "outputs": [],
   "source": [
    "kmeans = Kmeans(num_clusters=8)\n",
    "kmeans.loadData('../Session1/Data/20news-bydate.tar/20news-bydate/')\n",
    "kmeans.run(seed_value=42, criterion='similarity', threshold=1e-3)\n",
    "print(f\"Purity: {kmeans.computePurity()}\", f\"\\nNMI: {kmeans.computeNMI()}\")"
   ]
  },
  {
   "cell_type": "code",
   "execution_count": null,
   "metadata": {},
   "outputs": [],
   "source": [
    "import os"
   ]
  },
  {
   "attachments": {},
   "cell_type": "markdown",
   "metadata": {},
   "source": [
    "**Load Data**"
   ]
  },
  {
   "cell_type": "code",
   "execution_count": null,
   "metadata": {},
   "outputs": [],
   "source": [
    "X, y = load_data('../Session1/datasets/')"
   ]
  },
  {
   "cell_type": "code",
   "execution_count": null,
   "metadata": {},
   "outputs": [],
   "source": [
    "def compute_accuracy(y_pred, y):\n",
    "    # Check boolean True = 1, False = 0 \n",
    "    matches = np.equal(y_pred, y)\n",
    "    accuracy = np.sum(matches.astype(float)) / len(y)\n",
    "    return accuracy"
   ]
  },
  {
   "attachments": {},
   "cell_type": "markdown",
   "metadata": {},
   "source": [
    "**Sklearn Kmeans**"
   ]
  },
  {
   "cell_type": "code",
   "execution_count": null,
   "metadata": {},
   "outputs": [],
   "source": [
    "def clusteringWithKMeans():\n",
    "    data,labels = load_data('../Session1/datasets/')\n",
    "    from sklearn import cluster\n",
    "    from scipy.sparse import csr_matrix\n",
    "    \n",
    "    X = csr_matrix(data)\n",
    "    print(\"========\")\n",
    "    kmeans = cluster.KMeans(\n",
    "        n_clusters=8, \n",
    "        init=\"random\",\n",
    "        n_init=10,\n",
    "        tol=1e-3,\n",
    "        random_state=42\n",
    "        ).fit(X)\n",
    "    return kmeans.labels_"
   ]
  },
  {
   "cell_type": "code",
   "execution_count": null,
   "metadata": {},
   "outputs": [],
   "source": [
    "y_pred = clusteringWithKMeans()\n",
    "compute_accuracy(y_pred, y)"
   ]
  },
  {
   "cell_type": "code",
   "execution_count": null,
   "metadata": {},
   "outputs": [],
   "source": [
    "# split data into train set and test set\n",
    "from sklearn.model_selection import train_test_split\n",
    "X_train, X_test, y_train, y_test = train_test_split(X, y, test_size=0.2, random_state=42)"
   ]
  },
  {
   "cell_type": "code",
   "execution_count": null,
   "metadata": {},
   "outputs": [],
   "source": [
    "#Linear SVM\n",
    "def classifyingWithLinearSVM(X_train, y_train, X_test, y_test):\n",
    "    from sklearn.svm import LinearSVC\n",
    "    clf = LinearSVC(C=10.0, tol=0.001, verbose=True)\n",
    "    clf.fit(X_train, y_train)\n",
    "    y_pred = clf.predict(X_test)\n",
    "    accuracy = compute_accuracy(y_pred, y_test)\n",
    "    print(\"\\nAccuracy:\", accuracy)\n",
    "    return clf\n",
    "\n",
    "classifyingWithLinearSVM(X_train, y_train, X_test, y_test)"
   ]
  },
  {
   "cell_type": "code",
   "execution_count": null,
   "metadata": {},
   "outputs": [],
   "source": [
    "#Kernel SVM\n",
    "def classifyingWithKernelSVM(X_train, y_train, X_test, y_test):\n",
    "    from sklearn.svm import SVC\n",
    "    clf = SVC(C=50.0, kernel=\"rbf\", gamma=0.1, tol=0.001, verbose=True)\n",
    "    clf.fit(X_train, y_train)\n",
    "    y_pred = clf.predict(X_test)\n",
    "    accuracy = compute_accuracy(y_pred, y_test)\n",
    "    print(\"\\nAccuracy:\", accuracy)\n",
    "    return clf\n",
    "\n",
    "classifyingWithKernelSVM(X_train, y_train, X_test, y_test)"
   ]
  }
 ],
 "metadata": {
  "kernelspec": {
   "display_name": "pytorchenv",
   "language": "python",
   "name": "python3"
  },
  "language_info": {
   "codemirror_mode": {
    "name": "ipython",
    "version": 3
   },
   "file_extension": ".py",
   "mimetype": "text/x-python",
   "name": "python",
   "nbconvert_exporter": "python",
   "pygments_lexer": "ipython3",
   "version": "3.9.15 (main, Nov  4 2022, 16:35:55) [MSC v.1916 64 bit (AMD64)]"
  },
  "orig_nbformat": 4,
  "vscode": {
   "interpreter": {
    "hash": "5581cd8f8e7f555d1c7b7d5c73b743c62e9c35962a29bf47b3ccdfb22fa58433"
   }
  }
 },
 "nbformat": 4,
 "nbformat_minor": 2
}
