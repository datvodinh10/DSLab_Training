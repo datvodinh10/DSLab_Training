{
 "cells": [
  {
   "cell_type": "code",
   "execution_count": 1,
   "metadata": {},
   "outputs": [],
   "source": [
    "import numpy as np\n",
    "from LibraryCode.TfIdf import gather_20newsgroups_data,generate_vocabulary,get_tf_idf"
   ]
  },
  {
   "cell_type": "code",
   "execution_count": 2,
   "metadata": {},
   "outputs": [],
   "source": [
    "gather_20newsgroups_data()"
   ]
  },
  {
   "cell_type": "code",
   "execution_count": 3,
   "metadata": {},
   "outputs": [
    {
     "name": "stdout",
     "output_type": "stream",
     "text": [
      "Vocabulary size: 14070\n"
     ]
    }
   ],
   "source": [
    "generate_vocabulary('../Session 1/datasets/20news-full-processed.txt')"
   ]
  },
  {
   "cell_type": "code",
   "execution_count": 4,
   "metadata": {},
   "outputs": [],
   "source": [
    "data_tf_idf = get_tf_idf('../Session 1/datasets/20news-full-processed.txt')\n",
    "with open('../Session 1/datasets/data_tf_idf.txt','w') as f:\n",
    "    f.write(\"\\n\".join([str(label) + \"<fff>\" + str(doc_id) + \"<fff>\" + spare_rep \\\n",
    "                            for label, doc_id, spare_rep in data_tf_idf]))"
   ]
  }
 ],
 "metadata": {
  "kernelspec": {
   "display_name": "pytorchenv",
   "language": "python",
   "name": "python3"
  },
  "language_info": {
   "codemirror_mode": {
    "name": "ipython",
    "version": 3
   },
   "file_extension": ".py",
   "mimetype": "text/x-python",
   "name": "python",
   "nbconvert_exporter": "python",
   "pygments_lexer": "ipython3",
   "version": "3.9.15"
  },
  "orig_nbformat": 4,
  "vscode": {
   "interpreter": {
    "hash": "5581cd8f8e7f555d1c7b7d5c73b743c62e9c35962a29bf47b3ccdfb22fa58433"
   }
  }
 },
 "nbformat": 4,
 "nbformat_minor": 2
}
