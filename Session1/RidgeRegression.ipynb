{
 "cells": [
  {
   "cell_type": "code",
   "execution_count": 2,
   "metadata": {},
   "outputs": [],
   "source": [
    "import numpy as np\n",
    "import pandas as pd"
   ]
  },
  {
   "cell_type": "code",
   "execution_count": 3,
   "metadata": {},
   "outputs": [],
   "source": [
    "def get_data(path):\n",
    "    df = pd.read_csv(path, skiprows=72, header=None, sep=r'\\s+', index_col=0)\n",
    "    df.columns = [f'A{i}' for i in range(1, 16)] + ['B']\n",
    "    df = df.reset_index(drop=True)\n",
    "    return df.iloc[:, :-1], df.iloc[:, -1]"
   ]
  },
  {
   "cell_type": "code",
   "execution_count": 4,
   "metadata": {},
   "outputs": [],
   "source": [
    "def normalize_and_add_ones(X):\n",
    "    X = np.array(X)\n",
    "    X_max = np.max(X,axis=0)\n",
    "    X_min = np.min(X,axis=0)\n",
    "    X_normalized = (X-X_min) / (X_max-X_min)\n",
    "    ones = np.ones(X_normalized.shape[0])\n",
    "    return np.column_stack((ones,X_normalized))"
   ]
  },
  {
   "cell_type": "code",
   "execution_count": 5,
   "metadata": {},
   "outputs": [],
   "source": [
    "class RidgeRegression:\n",
    "    def __init__(self):\n",
    "        pass\n",
    "    def fit(self,X_train,y_train,LAMBDA):\n",
    "        W = np.linalg.inv(X_train.T.dot(X_train) + LAMBDA*np.eye(X_train.shape[1])).dot(X_train.T.dot(y_train))\n",
    "        return W\n",
    "\n",
    "    def predict(self,W,X_new):\n",
    "        return np.array(X_new).dot(W)\n",
    "\n",
    "    def computeRSS(self,Y_new,Y_pred):\n",
    "        return np.mean((Y_new-Y_pred)**2)\n",
    "\n",
    "    def getTheBestLAMBDA(self,X_train,y_train):\n",
    "\n",
    "        def crossValidation(num_folds,LAMBDA):\n",
    "            row_ids = np.arange(X_train.shape[0])\n",
    "            valid_ids = np.split(row_ids[:len(row_ids)-len(row_ids) % num_folds],num_folds)\n",
    "            valid_ids[-1] = np.append(valid_ids[-1],row_ids[len(row_ids)-len(row_ids) % num_folds:])\n",
    "            train_ids = [[k for k in row_ids if k not in valid_ids[i]] for i in range(num_folds)]\n",
    "            avg_RSS = 0\n",
    "            for i in range(num_folds):\n",
    "                W = self.fit(X_train[train_ids[i]],y_train[train_ids[i]],LAMBDA)\n",
    "                y_pred = self.predict(W,X_train[valid_ids[i]])\n",
    "                avg_RSS+=self.computeRSS(y_train[valid_ids[i]],y_pred)\n",
    "                return avg_RSS / num_folds\n",
    "\n",
    "        def rangeScan(best_LAMBDA,min_RSS,LAMBDA_values):\n",
    "            for current_LAMBDA in LAMBDA_values:\n",
    "                avg_RSS = crossValidation(num_folds=2,LAMBDA=current_LAMBDA)\n",
    "                if avg_RSS < min_RSS:\n",
    "                    best_LAMBDA = current_LAMBDA\n",
    "                    min_RSS = avg_RSS\n",
    "            return best_LAMBDA,min_RSS\n",
    "\n",
    "        best_LAMBDA, min_RSS = rangeScan(best_LAMBDA=0,min_RSS=1000**2,LAMBDA_values=range(50))\n",
    "\n",
    "        LAMBDA_values = np.arange(max(0,(best_LAMBDA-1)*1000,(best_LAMBDA+1)*1000,1))*1.0/1000\n",
    "        best_LAMBDA,min_RSS = rangeScan(best_LAMBDA=best_LAMBDA,min_RSS=min_RSS,LAMBDA_values=LAMBDA_values)\n",
    "        \n",
    "        return best_LAMBDA"
   ]
  },
  {
   "cell_type": "code",
   "execution_count": 6,
   "metadata": {},
   "outputs": [],
   "source": [
    "X,y = get_data('Data/DeathRate.txt')"
   ]
  },
  {
   "cell_type": "code",
   "execution_count": 7,
   "metadata": {},
   "outputs": [],
   "source": [
    "X = normalize_and_add_ones(X)"
   ]
  },
  {
   "cell_type": "code",
   "execution_count": 8,
   "metadata": {},
   "outputs": [],
   "source": [
    "X_train,y_train = X[:50],y[:50]\n",
    "X_test,y_test = X[50:],y[50:]"
   ]
  },
  {
   "cell_type": "code",
   "execution_count": 9,
   "metadata": {},
   "outputs": [],
   "source": [
    "ridge_reg = RidgeRegression()\n",
    "best_LAMBDA = ridge_reg.getTheBestLAMBDA(X_train,y_train)"
   ]
  },
  {
   "cell_type": "code",
   "execution_count": 10,
   "metadata": {},
   "outputs": [
    {
     "data": {
      "text/plain": [
       "0.018"
      ]
     },
     "execution_count": 10,
     "metadata": {},
     "output_type": "execute_result"
    }
   ],
   "source": [
    "best_LAMBDA"
   ]
  },
  {
   "cell_type": "code",
   "execution_count": 11,
   "metadata": {},
   "outputs": [],
   "source": [
    "W_learned = ridge_reg.fit(X_train,y_train,best_LAMBDA)"
   ]
  },
  {
   "cell_type": "code",
   "execution_count": 12,
   "metadata": {},
   "outputs": [],
   "source": [
    "y_pred = ridge_reg.predict(W_learned,X_test)"
   ]
  },
  {
   "cell_type": "code",
   "execution_count": 13,
   "metadata": {},
   "outputs": [
    {
     "data": {
      "text/plain": [
       "1416.5610862599851"
      ]
     },
     "execution_count": 13,
     "metadata": {},
     "output_type": "execute_result"
    }
   ],
   "source": [
    "ridge_reg.computeRSS(y_test,y_pred)"
   ]
  },
  {
   "cell_type": "code",
   "execution_count": null,
   "metadata": {},
   "outputs": [],
   "source": []
  }
 ],
 "metadata": {
  "kernelspec": {
   "display_name": "newenv",
   "language": "python",
   "name": "python3"
  },
  "language_info": {
   "codemirror_mode": {
    "name": "ipython",
    "version": 3
   },
   "file_extension": ".py",
   "mimetype": "text/x-python",
   "name": "python",
   "nbconvert_exporter": "python",
   "pygments_lexer": "ipython3",
   "version": "3.9.9"
  },
  "orig_nbformat": 4,
  "vscode": {
   "interpreter": {
    "hash": "b4e29b7942993bb79d18ac22bb11e2378491ac9098bf738e6b33bd0c08fcc001"
   }
  }
 },
 "nbformat": 4,
 "nbformat_minor": 2
}
