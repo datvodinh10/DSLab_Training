{
 "cells": [
  {
   "cell_type": "code",
   "execution_count": 25,
   "metadata": {},
   "outputs": [],
   "source": [
    "import numpy as np\n",
    "import torch"
   ]
  },
  {
   "attachments": {},
   "cell_type": "markdown",
   "metadata": {},
   "source": [
    "$${tfidf}(w_{i},d,D) = tf(w_{i},d) * idf(w_{i},D)$$\n",
    "$$ tf(w_{i},d) = \\frac{f(w_{i},d)}{max{(f(w_{i},d):w_{j} \\in V)}}$$\n",
    "$$idf(w_{i},D) = log_{10} \\frac {|D|}{|d^{'} \\in D: w_{i} \\in d^{'}|}$$"
   ]
  },
  {
   "cell_type": "code",
   "execution_count": null,
   "metadata": {},
   "outputs": [],
   "source": []
  },
  {
   "cell_type": "code",
   "execution_count": 26,
   "metadata": {},
   "outputs": [],
   "source": [
    "from genericpath import isfile\n",
    "from os import listdir\n",
    "import re\n",
    "from nltk.stem.porter import PorterStemmer\n",
    "stemmer = PorterStemmer()\n",
    "def gather_20newsgroups_data():\n",
    "    path = '../Session1/Data/20news-bydate.tar/20news-bydate/'\n",
    "    dirs = [path+dir_name+'/' \n",
    "            for dir_name in listdir(path)\n",
    "            if not isfile(path + dir_name)]\n",
    "    train_dir, test_dir = (dirs[0],dirs[1]) if 'train' in dirs[0] \\\n",
    "        else (dirs[1],dirs[0])\n",
    "    list_newgroups = [newgroup for newgroup in listdir(train_dir)]\n",
    "    list_newgroups.sort()\n",
    "    with open('../Session1/Data/20news-bydate.tar/20news-bydate/stop_words.txt') as f:\n",
    "        stop_words = f.read().splitlines()    \n",
    "\n",
    "    def collect_data_from(parent_dir,newsgroup_list):\n",
    "        data = []\n",
    "        for group_id, newsgroup in enumerate(newsgroup_list):\n",
    "            label = group_id\n",
    "            dir_path = parent_dir + '/' + newsgroup + '/'\n",
    "            files = [(filename,dir_path+filename)\n",
    "                    for filename in listdir(dir_path)\n",
    "                    if isfile(dir_path+filename)]\n",
    "            files.sort()\n",
    "            for filename, filepath in files:\n",
    "                with open(filepath) as f:\n",
    "                    text = f.read().lower()\n",
    "\n",
    "                    words = [stemmer.stem(word)\n",
    "                            for word in re.split('\\W+',text)\n",
    "                            if word not in stop_words]\n",
    "\n",
    "                    content = ' '.join(words)\n",
    "                    assert len(content.splitlines())==1\n",
    "                    data.append(str(label) + '<fff>' + filename + '<fff>' + content)\n",
    "        return data\n",
    "    train_data = collect_data_from(\n",
    "    parent_dir=train_dir,\n",
    "    newsgroup_list=list_newgroups\n",
    "    )\n",
    "    test_data = collect_data_from(\n",
    "        parent_dir=test_dir,\n",
    "        newsgroup_list=list_newgroups\n",
    "    )\n",
    "    full_data = train_data + test_data\n",
    "    with open('../Session1/Data/20news-bydate.tar/20news-bydate/20news-train-processed.txt','w') as f:\n",
    "        f.write('\\n'.join(train_data))\n",
    "    with open('../Session1/Data/20news-bydate.tar/20news-bydate/20news-test-processed.txt','w') as f:\n",
    "        f.write('\\n'.join(test_data))\n",
    "    with open('../Session1/Data/20news-bydate.tar/20news-bydate/20news-full-processed.txt','w') as f:\n",
    "        f.write('\\n'.join(full_data))"
   ]
  },
  {
   "cell_type": "code",
   "execution_count": 27,
   "metadata": {},
   "outputs": [],
   "source": [
    "gather_20newsgroups_data()"
   ]
  },
  {
   "cell_type": "code",
   "execution_count": 29,
   "metadata": {},
   "outputs": [],
   "source": [
    "from collections import defaultdict\n",
    "\n",
    "\n",
    "def generate_vocabulary(data_path):\n",
    "    def compute_idf(df,corpus_size):\n",
    "        assert df>0\n",
    "        return np.log10(corpus_size*1. / df)\n",
    "\n",
    "    with open(data_path) as f:\n",
    "        lines = f.read().splitlines()\n",
    "    doc_count = defaultdict(int)\n",
    "    corpus_size = len(lines)\n",
    "\n",
    "    for line in lines:\n",
    "        features = line.split('<fff>')\n",
    "        text = features[-1]\n",
    "        words = list(set(text.split()))\n",
    "        for word in words:\n",
    "            doc_count[word]+=1\n",
    "\n",
    "    word_idfs = [(word,compute_idf(document_freq, corpus_size))\n",
    "                for word,document_freq in zip(doc_count.keys(), doc_count.values())\n",
    "                if document_freq > 10 and not word.isdigit()]\n",
    "    word_idfs.sort(key=lambda word,idf: -idf)\n",
    "    print(f'Vocabulary size: {len(word_idfs)}')\n",
    "    with open('../Session1/Data/20news-bydate.tar/20news-bydate/words_idfs.txt','w') as f:\n",
    "        f.write('\\n'.join(word + '<fff>' + str(idf) for word,idf in word_idfs))\n",
    "\n",
    "\n"
   ]
  },
  {
   "cell_type": "code",
   "execution_count": 31,
   "metadata": {},
   "outputs": [],
   "source": [
    "def get_tf_idf(data_path):\n",
    "    with open('../Session1/Data/20news-bydate.tar/20news-bydate/word_idfs.txt') as f:\n",
    "        words_idfs = [(line.split('<fff>')[0],float(line.split('<fff>')[0]))\n",
    "                        for line in f.read().splitlines()]\n",
    "        \n",
    "        word_IDs = dict([(word,index) for index,(word,idf) in enumerate(words_idfs)])\n",
    "        idfs = dict(words_idfs)\n",
    "\n",
    "    with open(data_path) as f:\n",
    "        documents = [\n",
    "            (int(line.split('<fff>')[0]),\n",
    "            int(line.split('<fff>')[1]),\n",
    "            line.split('<fff>')[2])\n",
    "            for line in f.read().splitlines()\n",
    "        ]\n",
    "    \n",
    "    data_tf_idf = []\n",
    "    for document in documents:\n",
    "        label,doc_id,text = document\n",
    "        words = [word for word in text.split() if word in idfs]\n",
    "        word_set = list(set(words))\n",
    "        max_term_freq = max(words.count(word) for word in word_set)\n",
    "    \n",
    "    word_tfidfs = []\n",
    "    sum_squares = 0.0\n",
    "    for word in word_set:\n",
    "        term_freq = words.count(word)\n",
    "        tf_idf_value = term_freq * 1. / max_term_freq * idfs[word]\n",
    "        word_tfidfs.append((word_IDs[word],tf_idf_value))\n",
    "        sum_squares+=tf_idf_value**2\n",
    "\n",
    "    words_tfidfs_normalized = [str(index) + \":\"\n",
    "                             + str(tf_idf_value / np.sqrt(sum_squares))\n",
    "                             for index,tf_idf_value in word_tfidfs]\n",
    "                \n",
    "    sparse_rep = ' '.join(words_tfidfs_normalized)\n",
    "    data_tf_idf.append((label,doc_id,sparse_rep))\n",
    "\n",
    "    return data_tf_idf\n",
    "\n"
   ]
  },
  {
   "cell_type": "code",
   "execution_count": null,
   "metadata": {},
   "outputs": [],
   "source": []
  },
  {
   "cell_type": "markdown",
   "metadata": {},
   "source": []
  }
 ],
 "metadata": {
  "kernelspec": {
   "display_name": "pytorchenv",
   "language": "python",
   "name": "python3"
  },
  "language_info": {
   "codemirror_mode": {
    "name": "ipython",
    "version": 3
   },
   "file_extension": ".py",
   "mimetype": "text/x-python",
   "name": "python",
   "nbconvert_exporter": "python",
   "pygments_lexer": "ipython3",
   "version": "3.9.15"
  },
  "orig_nbformat": 4,
  "vscode": {
   "interpreter": {
    "hash": "5581cd8f8e7f555d1c7b7d5c73b743c62e9c35962a29bf47b3ccdfb22fa58433"
   }
  }
 },
 "nbformat": 4,
 "nbformat_minor": 2
}
