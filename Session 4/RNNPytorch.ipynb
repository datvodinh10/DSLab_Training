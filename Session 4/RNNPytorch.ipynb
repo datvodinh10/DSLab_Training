{
 "cells": [
  {
   "cell_type": "code",
   "execution_count": 1,
   "metadata": {},
   "outputs": [],
   "source": [
    "import torch\n",
    "import torch.nn as nn\n",
    "import numpy as np\n",
    "from LibraryCode.DataReader import DataReader\n",
    "from LibraryCode.RNN import RNN\n",
    "from LibraryCode.vocab import *"
   ]
  },
  {
   "attachments": {},
   "cell_type": "markdown",
   "metadata": {},
   "source": [
    "**1.Generate the Dictionary**"
   ]
  },
  {
   "cell_type": "code",
   "execution_count": null,
   "metadata": {},
   "outputs": [],
   "source": [
    "gen_data_and_vocab()"
   ]
  },
  {
   "attachments": {},
   "cell_type": "markdown",
   "metadata": {},
   "source": [
    "**2.Encoding Data**"
   ]
  },
  {
   "cell_type": "code",
   "execution_count": 2,
   "metadata": {},
   "outputs": [],
   "source": [
    "dir_data = \"../Session 4/datasets/\"\n",
    "train_path = os.path.join(dir_data, \"w2v\", \"20news_train_raw.txt\")\n",
    "test_path = os.path.join(dir_data, \"w2v\", \"20news_test_raw.txt\")\n",
    "vocab_path = os.path.join(dir_data, \"w2v\", \"vocab-raw.txt\")"
   ]
  },
  {
   "cell_type": "code",
   "execution_count": 3,
   "metadata": {},
   "outputs": [],
   "source": [
    "encode_data(train_path,vocab_path)\n",
    "encode_data(test_path,vocab_path)"
   ]
  },
  {
   "attachments": {},
   "cell_type": "markdown",
   "metadata": {},
   "source": [
    "**3.RNN**"
   ]
  },
  {
   "cell_type": "code",
   "execution_count": 4,
   "metadata": {},
   "outputs": [],
   "source": [
    "train_encoded_path = os.path.join(dir_data, \"w2v\", \"20news-train-encoded.txt\")\n",
    "test_encoded_path = os.path.join(dir_data, \"w2v\", \"20news-test-encoded.txt\")"
   ]
  },
  {
   "cell_type": "code",
   "execution_count": null,
   "metadata": {},
   "outputs": [],
   "source": [
    "class RNN:\n",
    "    def __init__(self,num_inputs=1,num_hiddens=32,num_layers=1):\n",
    "        self.num_inputs = num_inputs\n",
    "        self.num_hiddens = num_hiddens\n",
    "        self.num_layers = num_layers\n",
    "        self.LSTM = nn.LSTM(self.num_inputs,self.num_hiddens,self.num_layers)\n",
    "    def forward(self,X,hidden):\n",
    "        output, out_hidden = self.LSTM.forward(X,hidden)\n",
    "        return output, out_hidden"
   ]
  },
  {
   "cell_type": "code",
   "execution_count": 13,
   "metadata": {},
   "outputs": [],
   "source": [
    "model = RNN(num_inputs=500,num_hiddens=128,num_layers=1)"
   ]
  },
  {
   "cell_type": "code",
   "execution_count": null,
   "metadata": {},
   "outputs": [],
   "source": [
    "optimizer = torch.optim.Adam(model.LSTM.parameters(),lr=1e-3)"
   ]
  },
  {
   "cell_type": "code",
   "execution_count": 5,
   "metadata": {},
   "outputs": [],
   "source": [
    "loss_report = []\n",
    "accuracy_report = []\n",
    "\n",
    "def trainAndEvalRNN():\n",
    "  with open(os.path.join(dir_data,\"w2v\",\"vocab-raw.txt\")) as f:\n",
    "    vocab_size = len(f.read().splitlines())\n",
    "  train_data_reader = DataReader(\n",
    "    data_path=train_encoded_path,\n",
    "    batch_size=50\n",
    "  )\n",
    "  test_data_reader = DataReader(\n",
    "    data_path=test_encoded_path,\n",
    "    batch_size=50\n",
    "  )\n",
    "  step = 0\n",
    "  MAXSTEP = 3000\n",
    "  \n",
    "  while step < MAXSTEP:\n",
    "    next_train_batch = train_data_reader.nextBatch()\n",
    "    train_data, train_labels, train_sentence_lengths, train_final_tokens = next_train_batch\n",
    "    \n",
    "\n",
    "\n",
    "    \n",
    "  \n"
   ]
  },
  {
   "cell_type": "code",
   "execution_count": 10,
   "metadata": {},
   "outputs": [],
   "source": [
    "train_data_reader = DataReader(\n",
    "    data_path=train_encoded_path,\n",
    "    batch_size=50\n",
    "  )\n",
    "next_train_batch = train_data_reader.nextBatch()\n",
    "train_data, train_labels, train_sentence_lengths, train_final_tokens = next_train_batch"
   ]
  },
  {
   "cell_type": "code",
   "execution_count": 17,
   "metadata": {},
   "outputs": [
    {
     "data": {
      "text/plain": [
       "array(['5229', '17623', '1571', '1', '1', '14855', '1', '1', '1', '1',\n",
       "       '1', '1', '1', '1', '1', '1', '1', '1', '1', '1', '1', '1',\n",
       "       '12886', '1', '1', '1', '1', '1', '1', '1', '1', '14463', '1',\n",
       "       '16887', '1', '1', '14438', '1', '1', '1', '1', '1', '1571', '1',\n",
       "       '1', '16859', '1', '1', '1', '12499'], dtype='<U5')"
      ]
     },
     "execution_count": 17,
     "metadata": {},
     "output_type": "execute_result"
    }
   ],
   "source": [
    "train_final_tokens"
   ]
  },
  {
   "cell_type": "code",
   "execution_count": null,
   "metadata": {},
   "outputs": [],
   "source": []
  }
 ],
 "metadata": {
  "kernelspec": {
   "display_name": "pytorchenv",
   "language": "python",
   "name": "python3"
  },
  "language_info": {
   "codemirror_mode": {
    "name": "ipython",
    "version": 3
   },
   "file_extension": ".py",
   "mimetype": "text/x-python",
   "name": "python",
   "nbconvert_exporter": "python",
   "pygments_lexer": "ipython3",
   "version": "3.9.15"
  },
  "orig_nbformat": 4,
  "vscode": {
   "interpreter": {
    "hash": "5581cd8f8e7f555d1c7b7d5c73b743c62e9c35962a29bf47b3ccdfb22fa58433"
   }
  }
 },
 "nbformat": 4,
 "nbformat_minor": 2
}
