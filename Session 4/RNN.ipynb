{
 "cells": [
  {
   "cell_type": "code",
   "execution_count": null,
   "metadata": {},
   "outputs": [],
   "source": [
    "import warnings\n",
    "warnings.filterwarnings('ignore')\n",
    "import tensorflow.compat.v1 as tf\n",
    "tf.disable_v2_behavior()\n",
    "\n",
    "import numpy as np\n",
    "from LibraryCode.DataReader import DataReader\n",
    "from LibraryCode.RNN import RNN\n",
    "from LibraryCode.vocab import *\n",
    "import random"
   ]
  },
  {
   "attachments": {},
   "cell_type": "markdown",
   "metadata": {},
   "source": [
    "**1.Generate the Dictionary**"
   ]
  },
  {
   "cell_type": "code",
   "execution_count": null,
   "metadata": {},
   "outputs": [],
   "source": [
    "gen_data_and_vocab()"
   ]
  },
  {
   "attachments": {},
   "cell_type": "markdown",
   "metadata": {},
   "source": [
    "**2.Encoding Data**"
   ]
  },
  {
   "cell_type": "code",
   "execution_count": null,
   "metadata": {},
   "outputs": [],
   "source": [
    "dir_data = \"../Session 4/datasets/\"\n",
    "train_path = os.path.join(dir_data, \"w2v\", \"20news_train_raw.txt\")\n",
    "test_path = os.path.join(dir_data, \"w2v\", \"20news_test_raw.txt\")\n",
    "vocab_path = os.path.join(dir_data, \"w2v\", \"vocab-raw.txt\")"
   ]
  },
  {
   "cell_type": "code",
   "execution_count": null,
   "metadata": {},
   "outputs": [],
   "source": [
    "encode_data(train_path,vocab_path)\n",
    "encode_data(test_path,vocab_path)"
   ]
  },
  {
   "attachments": {},
   "cell_type": "markdown",
   "metadata": {},
   "source": [
    "**3.RNN**"
   ]
  },
  {
   "cell_type": "code",
   "execution_count": null,
   "metadata": {},
   "outputs": [],
   "source": [
    "train_encoded_path = os.path.join(dir_data, \"w2v\", \"20news-train-encoded.txt\")\n",
    "test_encoded_path = os.path.join(dir_data, \"w2v\", \"20news-test-encoded.txt\")"
   ]
  },
  {
   "cell_type": "code",
   "execution_count": null,
   "metadata": {},
   "outputs": [],
   "source": [
    "loss_report = []\n",
    "accuracy_report = []"
   ]
  },
  {
   "cell_type": "code",
   "execution_count": null,
   "metadata": {},
   "outputs": [],
   "source": [
    "def trainAndEvaluateRNN():\n",
    "  with open(vocab_path) as f:\n",
    "    vocab_size = len(f.read().splitlines())\n",
    "\n",
    "  random.seed(2022)\n",
    "  rnn = RNN(\n",
    "      vocab_size=vocab_size,\n",
    "      embedding_size=300,\n",
    "      lstm_size=50,\n",
    "      batch_size=50\n",
    "  )\n",
    "  predicted_labels, loss = rnn.build_graph()\n",
    "  train_op = rnn.trainer(loss=loss, learning_rate=0.01)\n",
    "\n",
    "  with tf.Session() as sess:\n",
    "    train_data_reader = DataReader(\n",
    "        data_path=train_encoded_path,\n",
    "        batch_size=50\n",
    "    )\n",
    "    test_data_reader = DataReader(\n",
    "        data_path=test_encoded_path,\n",
    "        batch_size=50\n",
    "    )\n",
    "    step = 0\n",
    "    MAX_STEP = 10000\n",
    "\n",
    "    sess.run(tf.global_variables_intializer())\n",
    "    while step < MAX_STEP:\n",
    "      next_train_batch = train_data_reader.next_batch()\n",
    "      train_data, train_labels, train_sentence_lengths, train_final_tokens = next_train_batch\n",
    "      plabels_eval, loss_eval, _ = sess.run(\n",
    "          [predicted_labels, loss, train_op],\n",
    "          feed_dict={\n",
    "              rnn._data: train_data,\n",
    "              rnn._labels: train_labels,\n",
    "              rnn._sentence_lengths: train_sentence_lengths,\n",
    "              rnn._final_tokens: train_final_tokens\n",
    "          }\n",
    "      )\n",
    "      step += 1\n",
    "      if step % 20 == 0:\n",
    "        loss_report.append(loss_eval)\n",
    "        print ('loss:', loss_eval)\n",
    "      if train_data_reader._batch_id == 0:\n",
    "        num_true_preds = 0\n",
    "        while True:\n",
    "          next_test_batch = test_data_reader.next_batch()\n",
    "          test_data, test_labels, test_sentence_lengths, test_final_tokens = next_test_batch\n",
    "\n",
    "          test_plabels_eval = sess.run(\n",
    "              predicted_labels,\n",
    "              feed_dict={\n",
    "                  rnn._data: test_data,\n",
    "                  rnn._labels: test_labels,\n",
    "                  rnn._sentence_lengths: test_sentence_lengths,\n",
    "                  rnn._final_tokens: test_final_tokens\n",
    "              }\n",
    "          )\n",
    "          matches = np.equal(test_plabels_eval, test_labels)\n",
    "          num_true_preds += np.sum(matches.astype(float))\n",
    "\n",
    "          if test_data_reader._batch_id == 0:\n",
    "            break\n",
    "\n",
    "        accuracy_report.append(num_true_preds * 100. / test_data_reader._size)\n",
    "        print ('Epoch:', train_data_reader._num_epoch)\n",
    "        print ('Accuracy on test data:', num_true_preds * 100. / len(test_data_reader._data))"
   ]
  },
  {
   "cell_type": "code",
   "execution_count": null,
   "metadata": {},
   "outputs": [],
   "source": [
    "trainAndEvaluateRNN()"
   ]
  }
 ],
 "metadata": {
  "kernelspec": {
   "display_name": "tensorenv",
   "language": "python",
   "name": "python3"
  },
  "language_info": {
   "codemirror_mode": {
    "name": "ipython",
    "version": 3
   },
   "file_extension": ".py",
   "mimetype": "text/x-python",
   "name": "python",
   "nbconvert_exporter": "python",
   "pygments_lexer": "ipython3",
   "version": "3.10.9"
  },
  "orig_nbformat": 4,
  "vscode": {
   "interpreter": {
    "hash": "e5c16fd675006009e5e0850495db5a6d9a0a8ddbda09f4f68b3c97a5bba8d53f"
   }
  }
 },
 "nbformat": 4,
 "nbformat_minor": 2
}
